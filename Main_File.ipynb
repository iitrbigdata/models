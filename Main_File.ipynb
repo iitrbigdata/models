{
 "cells": [
  {
   "cell_type": "code",
   "execution_count": 1,
   "metadata": {
    "collapsed": true
   },
   "outputs": [],
   "source": [
    "import numpy as np\n",
    "import pandas as pd\n",
    "import matplotlib.pyplot as plt\n",
    "import seaborn as sns\n",
    "% matplotlib inline"
   ]
  },
  {
   "cell_type": "code",
   "execution_count": 2,
   "metadata": {
    "collapsed": false
   },
   "outputs": [],
   "source": [
    "#importing dataset\n",
    "dataset = pd.read_csv(\"pima-indians-diabetes.csv\",header=None)\n",
    "dataset.columns=[str(i) for i  in range(0,(dataset.shape[1]))]"
   ]
  },
  {
   "cell_type": "code",
   "execution_count": 3,
   "metadata": {
    "collapsed": true
   },
   "outputs": [],
   "source": [
    "seed = 7\n",
    "np.random.seed(seed)"
   ]
  },
  {
   "cell_type": "code",
   "execution_count": 4,
   "metadata": {
    "collapsed": false
   },
   "outputs": [],
   "source": [
    "X = dataset.drop([\"8\"], axis=1).as_matrix()\n",
    "Y = np.array(dataset[\"8\"])"
   ]
  },
  {
   "cell_type": "code",
   "execution_count": 5,
   "metadata": {
    "collapsed": false
   },
   "outputs": [
    {
     "name": "stderr",
     "output_type": "stream",
     "text": [
      "Using TensorFlow backend.\n",
      "Using TensorFlow backend.\n"
     ]
    }
   ],
   "source": [
    "# Importing modules\n",
    "from sklearn.model_selection import GridSearchCV\n",
    "from Keras.models import Sequential\n",
    "from Keras.layers import Dense\n",
    "from Keras.wrappers.scikit_learn import KerasClassifier"
   ]
  },
  {
   "cell_type": "code",
   "execution_count": 6,
   "metadata": {
    "collapsed": true
   },
   "outputs": [],
   "source": [
    "input_dimension = X.shape[1]\n",
    "\n",
    "def create_model(optimizer='rmsprop', activation='relu'):\n",
    "    # creating modelT\n",
    "    model = Sequential()\n",
    "    model.add(Dense(12, input_dim=8, activation=activation))\n",
    "    model.add(Dense(1, activation='sigmoid'))\n",
    "    # Compiling model\n",
    "    model.compile(loss='binary_crossentropy', optimizer=optimizer, metrics=['accuracy'])\n",
    "    return model"
   ]
  },
  {
   "cell_type": "code",
   "execution_count": 27,
   "metadata": {
    "collapsed": false
   },
   "outputs": [
    {
     "name": "stdout",
     "output_type": "stream",
     "text": [
      "Best: 0.682292 using {'nb_epoch': 100, 'batch_size': 10}\n",
      "0.657552 (0.031466) with: {'nb_epoch': 10, 'batch_size': 10}\n",
      "0.665365 (0.038976) with: {'nb_epoch': 50, 'batch_size': 10}\n",
      "0.682292 (0.017566) with: {'nb_epoch': 100, 'batch_size': 10}\n",
      "0.604167 (0.052634) with: {'nb_epoch': 10, 'batch_size': 20}\n",
      "0.677083 (0.026748) with: {'nb_epoch': 50, 'batch_size': 20}\n",
      "0.669271 (0.013279) with: {'nb_epoch': 100, 'batch_size': 20}\n",
      "0.537760 (0.150997) with: {'nb_epoch': 10, 'batch_size': 50}\n",
      "0.625000 (0.044309) with: {'nb_epoch': 50, 'batch_size': 50}\n",
      "0.648438 (0.032369) with: {'nb_epoch': 100, 'batch_size': 50}\n",
      "0.575521 (0.038976) with: {'nb_epoch': 10, 'batch_size': 100}\n",
      "0.638021 (0.016367) with: {'nb_epoch': 50, 'batch_size': 100}\n",
      "0.532552 (0.148996) with: {'nb_epoch': 100, 'batch_size': 100}\n"
     ]
    }
   ],
   "source": [
    "# creating model\n",
    "model = KerasClassifier(build_fn=create_model, verbose=0)\n",
    "# defining the grid search parameters\n",
    "batch_size = [10, 20, 50,100]\n",
    "epochs = [10,50, 100]\n",
    "param_grid = dict(batch_size=batch_size, nb_epoch=epochs)\n",
    "grid = GridSearchCV(estimator=model, param_grid=param_grid)\n",
    "grid_result = grid.fit(X, Y)\n",
    "\n",
    "# summarize results\n",
    "print(\"Best: %f using %s\" % (grid_result.best_score_, grid_result.best_params_))\n",
    "means = grid_result.cv_results_['mean_test_score']\n",
    "stds = grid_result.cv_results_['std_test_score']\n",
    "params = grid_result.cv_results_['params']\n",
    "for mean, stdev, param in zip(means, stds, params):\n",
    "    print(\"%f (%f) with: %r\" % (mean, stdev, param))"
   ]
  },
  {
   "cell_type": "code",
   "execution_count": null,
   "metadata": {
    "collapsed": true
   },
   "outputs": [],
   "source": []
  },
  {
   "cell_type": "code",
   "execution_count": 28,
   "metadata": {
    "collapsed": false
   },
   "outputs": [
    {
     "name": "stdout",
     "output_type": "stream",
     "text": [
      "Best: 0.694010 using {'optimizer': 'adam'}\n",
      "0.455729 (0.146518) with: {'optimizer': 'sgd'}\n",
      "0.576823 (0.137195) with: {'optimizer': 'rmsprop'}\n",
      "0.678385 (0.012890) with: {'optimizer': 'adagrad'}\n",
      "0.671875 (0.008438) with: {'optimizer': 'adadelta'}\n",
      "0.694010 (0.028587) with: {'optimizer': 'adam'}\n"
     ]
    }
   ],
   "source": [
    "model = KerasClassifier(build_fn=create_model, nb_epoch=100, batch_size=10, verbose=0)\n",
    "# defining the grid search parameters\n",
    "optimizer = ['sgd', 'rmsprop', 'adagrad', 'adadelta', 'adam']\n",
    "param_grid = dict(optimizer=optimizer)\n",
    "grid = GridSearchCV(estimator=model, param_grid=param_grid)\n",
    "grid_result = grid.fit(X, Y)\n",
    "\n",
    "# summarize results\n",
    "print(\"Best: %f using %s\" % (grid_result.best_score_, grid_result.best_params_))\n",
    "means = grid_result.cv_results_['mean_test_score']\n",
    "stds = grid_result.cv_results_['std_test_score']\n",
    "params = grid_result.cv_results_['params']\n",
    "for mean, stdev, param in zip(means, stds, params):\n",
    "    print(\"%f (%f) with: %r\" % (mean, stdev, param))\n"
   ]
  },
  {
   "cell_type": "code",
   "execution_count": 30,
   "metadata": {
    "collapsed": false
   },
   "outputs": [
    {
     "data": {
      "text/plain": [
       "<matplotlib.axes._subplots.AxesSubplot at 0x246419b2da0>"
      ]
     },
     "execution_count": 30,
     "metadata": {},
     "output_type": "execute_result"
    },
    {
     "data": {
      "image/png": "[encoded data removed]",
      "text/plain": [
       "<matplotlib.figure.Figure at 0x2464185c6a0>"
      ]
     },
     "metadata": {},
     "output_type": "display_data"
    }
   ],
   "source": [
    "sns.pointplot(optimizer, means)"
   ]
  },
  {
   "cell_type": "code",
   "execution_count": null,
   "metadata": {
    "collapsed": true
   },
   "outputs": [],
   "source": []
  },
  {
   "cell_type": "code",
   "execution_count": 31,
   "metadata": {
    "collapsed": false
   },
   "outputs": [
    {
     "name": "stdout",
     "output_type": "stream",
     "text": [
      "Best: 0.705729 using {'activation': 'softplus'}\n",
      "0.661458 (0.034987) with: {'activation': 'softmax'}\n",
      "0.705729 (0.023939) with: {'activation': 'softplus'}\n",
      "0.653646 (0.028587) with: {'activation': 'softsign'}\n",
      "0.548177 (0.158362) with: {'activation': 'relu'}\n",
      "0.682292 (0.021236) with: {'activation': 'tanh'}\n",
      "0.658854 (0.032734) with: {'activation': 'sigmoid'}\n",
      "0.664063 (0.041707) with: {'activation': 'hard_sigmoid'}\n",
      "0.555990 (0.123086) with: {'activation': 'linear'}\n"
     ]
    }
   ],
   "source": [
    "model = KerasClassifier(build_fn=create_model, nb_epoch=100, batch_size=10, verbose=0)\n",
    "# defining the grid search parameters\n",
    "activation = ['softmax', 'softplus', 'softsign', 'relu', 'tanh', 'sigmoid', 'hard_sigmoid', 'linear']\n",
    "param_grid = dict(activation=activation)\n",
    "grid = GridSearchCV(estimator=model, param_grid=param_grid)\n",
    "grid_result = grid.fit(X, Y)\n",
    "# summarize results\n",
    "print(\"Best: %f using %s\" % (grid_result.best_score_, grid_result.best_params_))\n",
    "means = grid_result.cv_results_['mean_test_score']\n",
    "stds = grid_result.cv_results_['std_test_score']\n",
    "params = grid_result.cv_results_['params']\n",
    "for mean, stdev, param in zip(means, stds, params):\n",
    "    print(\"%f (%f) with: %r\" % (mean, stdev, param))"
   ]
  },
  {
   "cell_type": "code",
   "execution_count": 32,
   "metadata": {
    "collapsed": false
   },
   "outputs": [
    {
     "data": {
      "text/plain": [
       "<matplotlib.axes._subplots.AxesSubplot at 0x2465e800b38>"
      ]
     },
     "execution_count": 32,
     "metadata": {},
     "output_type": "execute_result"
    },
    {
     "data": {
      "image/png": "[encoded data removed]",
      "text/plain": [
       "<matplotlib.figure.Figure at 0x246419b2fd0>"
      ]
     },
     "metadata": {},
     "output_type": "display_data"
    }
   ],
   "source": [
    "sns.pointplot(activation, means)"
   ]
  },
  {
   "cell_type": "code",
   "execution_count": null,
   "metadata": {
    "collapsed": true
   },
   "outputs": [],
   "source": []
  },
  {
   "cell_type": "code",
   "execution_count": null,
   "metadata": {
    "collapsed": true
   },
   "outputs": [],
   "source": [
    "#no"
   ]
  }
 ],
 "metadata": {
  "anaconda-cloud": {},
  "kernelspec": {
   "display_name": "Python [conda root]",
   "language": "python",
   "name": "conda-root-py"
  },
  "language_info": {
   "codemirror_mode": {
    "name": "ipython",
    "version": 3
   },
   "file_extension": ".py",
   "mimetype": "text/x-python",
   "name": "python",
   "nbconvert_exporter": "python",
   "pygments_lexer": "ipython3",
   "version": "3.5.2"
  }
 },
 "nbformat": 4,
 "nbformat_minor": 1
}
